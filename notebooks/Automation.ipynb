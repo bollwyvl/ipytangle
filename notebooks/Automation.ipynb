{
 "cells": [
  {
   "cell_type": "markdown",
   "metadata": {},
   "source": [
    "## Run Tests"
   ]
  },
  {
   "cell_type": "code",
   "execution_count": 9,
   "metadata": {
    "collapsed": false
   },
   "outputs": [
    {
     "name": "stdout",
     "output_type": "stream",
     "text": [
      "running test\n",
      "running egg_info\n",
      "writing top-level names to ipytangle.egg-info/top_level.txt\n",
      "writing ipytangle.egg-info/PKG-INFO\n",
      "writing dependency_links to ipytangle.egg-info/dependency_links.txt\n",
      "writing requirements to ipytangle.egg-info/requires.txt\n",
      "file ipytangle.py (for module ipytangle) not found\n",
      "reading manifest file 'ipytangle.egg-info/SOURCES.txt'\n",
      "reading manifest template 'MANIFEST.in'\n",
      "warning: no files found matching '*.ipynb' under directory '.'\n",
      "warning: no previously-included files matching '__pycache__' found under directory '.'\n",
      "warning: no previously-included files matching '*.py[co]' found under directory '.'\n",
      "writing manifest file 'ipytangle.egg-info/SOURCES.txt'\n",
      "running build_ext\n",
      "nose.config: INFO: Ignoring files matching ['^\\\\.', '^_', '^setup\\\\.py$']\n",
      "nose.plugins.cover: INFO: Coverage report will include only packages: ['ipytangle']\n",
      "ipytangle.tests.test_widgets.test_notebook ... \u001b[37;46;1mTest file: /home/weg/Documents/projects/ipytangle/ipytangle/tests/test_tangle_view.coffee\u001b[0m\n",
      "\u001b[32;1mPASS\u001b[0m ...style loaded\n",
      "\u001b[32;1mPASS\u001b[0m ...value is initialized\n",
      "\u001b[32;1mPASS\u001b[0m ...value changed\n",
      "\u001b[37;42;1mPASS 3 tests executed in 4.202s, 3 passed, 0 failed, 0 dubious, 0 skipped.      \u001b[0m\n",
      "\u001b[32;1mResult log stored in /home/weg/Documents/projects/ipytangle/ipytangle.xunit.xml \u001b[0m\n",
      "Unsafe JavaScript attempt to access frame with URL about:blank from frame with URL file:///home/weg/node_modules/casperjs/bin/bootstrap.js. Domains, protocols and ports must match.\n",
      "\n",
      "ok\n",
      "\n",
      "Name                Stmts   Miss  Cover   Missing\n",
      "-------------------------------------------------\n",
      "ipytangle              68     58    15%   22-28, 31-37, 40-45, 69-127\n",
      "ipytangle.widgets      12      3    75%   27-29\n",
      "-------------------------------------------------\n",
      "TOTAL                  80     61    24%   \n",
      "----------------------------------------------------------------------\n",
      "Ran 1 test in 8.031s\n",
      "\n",
      "OK\n"
     ]
    }
   ],
   "source": [
    "!cd .. && PYTHONWARNINGS=ignore python setup.py test"
   ]
  },
  {
   "cell_type": "markdown",
   "metadata": {},
   "source": [
    "# Check Style"
   ]
  },
  {
   "cell_type": "code",
   "execution_count": 11,
   "metadata": {
    "collapsed": false
   },
   "outputs": [],
   "source": [
    "!flake8 ../ipytangle/*.py ../*.py"
   ]
  },
  {
   "cell_type": "markdown",
   "metadata": {},
   "source": [
    "# Generate READMEs"
   ]
  },
  {
   "cell_type": "code",
   "execution_count": 12,
   "metadata": {
    "collapsed": false
   },
   "outputs": [
    {
     "name": "stdout",
     "output_type": "stream",
     "text": [
      "[NbConvertApp] Converting notebook README.ipynb to rst\n",
      "[NbConvertApp] Converting notebook README.ipynb to markdown\n"
     ]
    }
   ],
   "source": [
    "!ipython nbconvert README.ipynb --to=rst --stdout > ../README.rst\n",
    "!ipython nbconvert README.ipynb --to=markdown --stdout > ../README.md"
   ]
  },
  {
   "cell_type": "markdown",
   "metadata": {},
   "source": [
    "# Do node stuff"
   ]
  },
  {
   "cell_type": "code",
   "execution_count": 4,
   "metadata": {
    "collapsed": true
   },
   "outputs": [],
   "source": [
    "!cd .. && bower install"
   ]
  },
  {
   "cell_type": "markdown",
   "metadata": {},
   "source": [
    "# PyPi: release dry run"
   ]
  },
  {
   "cell_type": "code",
   "execution_count": null,
   "metadata": {
    "collapsed": true
   },
   "outputs": [],
   "source": [
    "!python setup.py register -r pypitest\n",
    "!python setup.py sdist\n",
    "!python setup.py bdist_wheel\n",
    "!python setup.py sdist upload -r pypitest\n",
    "!python setup.py bdist_wheel upload -r pypitest"
   ]
  },
  {
   "cell_type": "markdown",
   "metadata": {},
   "source": [
    "# PyPi: release"
   ]
  },
  {
   "cell_type": "code",
   "execution_count": null,
   "metadata": {
    "collapsed": true
   },
   "outputs": [],
   "source": [
    "!python setup.py register -r pypi\n",
    "!python setup.py sdist\n",
    "!python setup.py bdist_wheel\n",
    "!python setup.py sdist upload -r pypi\n",
    "!python setup.py bdist_wheel upload -r pypi"
   ]
  }
 ],
 "metadata": {
  "kernelspec": {
   "display_name": "Python 3",
   "language": "python",
   "name": "python3"
  },
  "language_info": {
   "codemirror_mode": {
    "name": "ipython",
    "version": 3
   },
   "file_extension": ".py",
   "mimetype": "text/x-python",
   "name": "python",
   "nbconvert_exporter": "python",
   "pygments_lexer": "ipython3",
   "version": "3.4.2"
  }
 },
 "nbformat": 4,
 "nbformat_minor": 0
}
