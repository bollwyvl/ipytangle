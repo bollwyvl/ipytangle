{
 "cells": [
  {
   "cell_type": "markdown",
   "metadata": {},
   "source": [
    "# Tangling up `interact`\n",
    "IPython's [`interact`]() can do some things that are awkward with straight widgets, such as generating plots. It will magically make built-in widgets from some simple settings objects."
   ]
  },
  {
   "cell_type": "code",
   "execution_count": 11,
   "metadata": {
    "collapsed": false
   },
   "outputs": [],
   "source": [
    "from IPython.html.widgets import interact\n",
    "from math import (sin, cos, tan)\n",
    "from ipytangle import tangle"
   ]
  },
  {
   "cell_type": "markdown",
   "metadata": {},
   "source": [
    "If you have defined an `interact` function, you can pull out all of the variables and put them in a tangle.\n",
    "\n",
    "<div class=\"alert alert-info\">\n",
    "Because you can only have one tangle per page right now, see [Interacting with a tangle](./Interacting with a tangle.ipynb).  \n",
    "</div>"
   ]
  },
  {
   "cell_type": "code",
   "execution_count": 12,
   "metadata": {
    "collapsed": false
   },
   "outputs": [
    {
     "name": "stdout",
     "output_type": "stream",
     "text": [
      "-0.7265148944842826\n"
     ]
    }
   ],
   "source": [
    "@interact\n",
    "def interactor(fn=dict(sin=sin, cos=cos, tan=tan), x=(0, 360)):\n",
    "    print(fn(x))"
   ]
  },
  {
   "cell_type": "markdown",
   "metadata": {},
   "source": [
    "# The [`fn_label`](#:fn_label) function\n",
    "The [`fn_label`](#:) of [`x`](#:x) is... some number."
   ]
  },
  {
   "cell_type": "code",
   "execution_count": 13,
   "metadata": {
    "collapsed": false
   },
   "outputs": [
    {
     "name": "stdout",
     "output_type": "stream",
     "text": [
      "-0.4629845264892503\n"
     ]
    }
   ],
   "source": [
    "trig_talk = tangle(interactor)\n",
    "trig_talk"
   ]
  }
 ],
 "metadata": {
  "kernelspec": {
   "display_name": "Python 3",
   "language": "python",
   "name": "python3"
  },
  "language_info": {
   "codemirror_mode": {
    "name": "ipython",
    "version": 3
   },
   "file_extension": ".py",
   "mimetype": "text/x-python",
   "name": "python",
   "nbconvert_exporter": "python",
   "pygments_lexer": "ipython3",
   "version": "3.4.2"
  }
 },
 "nbformat": 4,
 "nbformat_minor": 0
}
