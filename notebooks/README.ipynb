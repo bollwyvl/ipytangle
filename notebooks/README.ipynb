{
 "cells": [
  {
   "cell_type": "markdown",
   "metadata": {},
   "source": [
    "# IPyTangle \n",
    "\n",
    "[![build-badge][]][build] [![pypi-badge][]][pypi]\n",
    "\n",
    "Reactive narratives inspired by [Tangle][] in the [Jupyter Notebook][].\n",
    "\n",
    "IPyTangle makes plain markdown into an interactive part of your data-driven narrative.\n",
    "\n",
    "[build]: https://travis-ci.org/bollwyvl/ipytangle\n",
    "[build-badge]: https://travis-ci.org/bollwyvl/ipytangle.svg\n",
    "[pypi]: https://pypi.python.org/pypi/ipytangle/\n",
    "[pypi-badge]: https://img.shields.io/pypi/v/ipytangle.svg\n",
    "[Tangle]: http://worrydream.com/Tangle/\n",
    "[Jupyter Notebook]: http://jupyter.org"
   ]
  },
  {
   "cell_type": "markdown",
   "metadata": {},
   "source": [
    "![](screenshots/cookies/002_change.png)"
   ]
  },
  {
   "cell_type": "markdown",
   "metadata": {},
   "source": [
    "## Installation\n",
    "Get the most recent release with:\n",
    "\n",
    "```bash\n",
    "pip install ipytangle\n",
    "```\n",
    "\n",
    "Or the bleeding-edge version:\n",
    "```bash\n",
    "pip install -e git+https://github.com/bollwyvl/ipytangle#egg=IPyTangle\n",
    "```"
   ]
  },
  {
   "cell_type": "markdown",
   "metadata": {},
   "source": [
    "## Usage\n",
    "\n",
    "In a Notebook, write this python...\n",
    "\n",
    "```python\n",
    "from ipytangle import tangle\n",
    "\n",
    "tangle(cookies=3, calories=lambda cookies: cookies * 50)\n",
    "```\n",
    "\n",
    "And this markdown:\n",
    "\n",
    "```markdown\n",
    "When you eat [`cookies` cookies](#:cookies), you consume [`calories` calories](#:calories).\n",
    "```\n",
    "\n",
    "And you would see something like this:\n",
    "\n",
    "> When you eat [`2` cookies](#:cookies), you consume [`150` calories](#:).\n",
    "\n",
    "And interacting with the links would cause the result to update."
   ]
  },
  {
   "cell_type": "markdown",
   "metadata": {},
   "source": [
    "## Examples\n",
    "Adapted from the originals from [Tangle](http://worrydream.com/Tangle/).\n",
    "\n",
    "- [Cookies](notebooks/examples/Cookies.ipynb)\n",
    "- [California State Parks Proposition 21](notebooks/examples/Proposition 21.ipynb)\n",
    "\n",
    "Additionally, `ipytangle` comes with integration with IPython's `interact`, the easiest way to start using widgets.\n",
    "\n",
    "- [`Interact`ing with a tangle](notebooks/examples/Interacting with a tangle.ipynb)\n",
    "- [Tangling up `interact`](notebooks/examples/Tangling up interact.ipynb)"
   ]
  },
  {
   "cell_type": "markdown",
   "metadata": {},
   "source": [
    "## Markdown\n",
    "`ipytangle` implements most of the [TangleKit](https://github.com/worrydream/Tangle/blob/master/TangleKit/TangleKit.js) baseline as markdown links. Because it adds no new notation, unrendered Tangle Markdown should still render in a useful way.\n",
    "\n",
    "Generally, think of a link as:\n",
    "```markdown\n",
    "[what the user sees](#:tangle types)\n",
    "```\n",
    "\n",
    "In the link text, backticks, **\\`\\`** are used to represent a JavaScript expression that will be updated on user interaction, cascading updates, or other updates from the kernel. In addition to any variables defined with `ipytangle`, some [formatting](#Formatting) libraries are provided. `window` globals should also work :wink:.\n",
    "\n",
    "Only the generated `code` blocks will be transformed, the rest of the elements (if any) will be preserved. This means you can use images, inside the label of a control, for example."
   ]
  },
  {
   "cell_type": "markdown",
   "metadata": {},
   "source": [
    "### Link Types\n",
    "\n",
    "#### `[<stringy expression>](#:)`\n",
    "just display a view\n",
    "\n",
    "```markdown\n",
    "For [`years` years](#:) have I trained Jedi. \n",
    "```\n",
    "\n",
    "####`[<stringy expression>](#:<variable>)`\n",
    "display a view and update an integer based on dragging\n",
    "\n",
    "```markdown\n",
    "[made the kessel run in `distance` parsecs](#:distance)\n",
    "```\n",
    "\n",
    "#### `[<booly expression>](#:if)` ... _[_ `[<booly expression>](#elif)`_]_ ... _[_ `[](#:else)` _]_ ... `[](#:endif)`\n",
    "mark some text (which may have other fields) to only display based on condition\n",
    "```markdown\n",
    "What's more foolish? The [`fool_is_more_foolish`](#:if)fool[](#:else)the fool who follows him(#:endif).\n",
    "```\n",
    "you may also have an `else` and any number of `elif`s... because they are markdown span-level elements, you may use \n",
    "newlines for easier editing\n",
    "```markdown\n",
    "[`feeling == \"bad\"`](#:if) I have a bad feeling about this.\n",
    "[`feeling == \"cautious\"`](#:elif) You will never find a more wretched hive of scum and villainy.\n",
    "[](#:else) Search your feelings.\n",
    "[](#:endif)\n",
    "```"
   ]
  },
  {
   "cell_type": "markdown",
   "metadata": {},
   "source": [
    "### Proposed Link Types\n",
    "\n",
    "#### `[<stringy expression>](#:<variable>:(int|float):<min>:<max>:<step>)`\n",
    "display a view and update some `type` of variable. Additionally, `min`imum `max`imum and `step`-size values can be specified.\n",
    "\n",
    "#### `[](#:<variable>:inline)`\n",
    "Replace the `variable`, for which a linked widget has been registered (TBD) with the widget itself inline. \n",
    "> Needs research."
   ]
  },
  {
   "cell_type": "markdown",
   "metadata": {},
   "source": [
    "### Widgets\n",
    "At it's core, `ipytangle` provides `Tangle`, an IPython `Widget`. Because of this, a `Tangle` can connect to any other IPython widgets via _traitlets_ and `links`. Unlike many widgets, a `Tangle` doesn't do much with its screen real estate, and might not be very interesting to put inside a layout. Yet.\n",
    "\n",
    "There are several methods for creating a `Tangle`."
   ]
  },
  {
   "cell_type": "markdown",
   "metadata": {},
   "source": [
    "#### `ipytangle.tangle`\n",
    "As in the above example, this tries to be the most pythonic approach."
   ]
  },
  {
   "cell_type": "code",
   "execution_count": 18,
   "metadata": {
    "collapsed": false
   },
   "outputs": [
    {
     "name": "stdout",
     "output_type": "stream",
     "text": [
      "square is <IPython.utils.traitlets.DynamicAutoTangle139717235746760 object at 0x7f1274347ef0>\n",
      "y is 4\n"
     ]
    }
   ],
   "source": [
    "from ipytangle import tangle\n",
    "\n",
    "square = tangle(x=1, y=(1, lambda x: x*x))\n",
    "\n",
    "print(\"square is\", square)\n",
    "square.x = 2\n",
    "print(\"y is\", square.y)"
   ]
  },
  {
   "cell_type": "markdown",
   "metadata": {},
   "source": [
    "##### Linking to other widgets\n",
    "`tangle` makes working with other core and custom widgets easy, automatically copying trait information. If a widget implements `value`, as most of the core widgets do, you can reference it directly. Alternately, specify a `tuple` of `(widget, \"trait_name\")` to subscribe to that trait."
   ]
  },
  {
   "cell_type": "code",
   "execution_count": 26,
   "metadata": {
    "collapsed": false
   },
   "outputs": [
    {
     "name": "stdout",
     "output_type": "stream",
     "text": [
      "square is <IPython.utils.traitlets.DynamicAutoTangle139717235839048 object at 0x7f1274362080>\n",
      "y is 4\n"
     ]
    }
   ],
   "source": [
    "from IPython.html.widgets import IntSlider\n",
    "\n",
    "x = IntSlider(1)\n",
    "square = tangle(x=x,  y=(1, lambda x: x*x))\n",
    "\n",
    "print(\"square is\", square)\n",
    "x.value = 2\n",
    "print(\"y is\", square.y)"
   ]
  },
  {
   "cell_type": "markdown",
   "metadata": {},
   "source": [
    "#### `ipytangle.Tangle`\n",
    "If you are already familiar with widgets, subclassing `Tangle` might be the most convenient:"
   ]
  },
  {
   "cell_type": "code",
   "execution_count": 19,
   "metadata": {
    "collapsed": false
   },
   "outputs": [
    {
     "name": "stdout",
     "output_type": "stream",
     "text": [
      "square is <__main__.Square object at 0x7f127434b7f0>\n",
      "y is 4\n"
     ]
    }
   ],
   "source": [
    "from ipytangle import Tangle\n",
    "from IPython.utils import traitlets\n",
    "\n",
    "class Square(Tangle):\n",
    "    x = traitlets.CInt(1, sync=True)\n",
    "    y = traitlets.CInt(1, sync=True)\n",
    "    \n",
    "    def _x_changed(self):\n",
    "        self.y = self.x * self.x\n",
    "\n",
    "square = Square()\n",
    "\n",
    "print(\"square is\", square)\n",
    "square.x = 2\n",
    "print(\"y is\", square.y)"
   ]
  },
  {
   "cell_type": "markdown",
   "metadata": {},
   "source": [
    "> _A future version of IPython Widgets will allow dynamically-added traits with `add_trait`. This will open up whole new areas for tinkering. Stay tuned!_"
   ]
  },
  {
   "cell_type": "markdown",
   "metadata": {},
   "source": [
    "### Formatting\n",
    "In addition to your locally-bound variables, `ipytangle` bundles several nice JavaScript libraries and shortcuts for formatting text and numbers:\n",
    "- [`moment`](http://momentjs.com/) dates and times\n",
    "- [`mathjs`](http://mathjs.org/) scientific units`\n",
    "- [`numeral`](http://numeraljs.com/) currency, and miscellany"
   ]
  },
  {
   "cell_type": "markdown",
   "metadata": {},
   "source": [
    "## Inspiration\n",
    "Of course, Brett Victor's [Tangle](http://worrydream.com/Tangle/) is the primary inspiration, as well as:\n",
    "- [tributary](http://tributary.io/)\n",
    "- [derby](http://derbjys.org)\n",
    "- [d3](http://d3js.org)"
   ]
  },
  {
   "cell_type": "markdown",
   "metadata": {},
   "source": [
    "## Roadmap\n",
    "- support [TangleKit](https://github.com/worrydream/Tangle/blob/master/TangleKit/TangleKit.js) baseline\n",
    "  - float\n",
    "  - switch\n",
    "- $L_AT^EX$ (sic)\n",
    "- sparklines, distributions, etc.\n",
    "- offline/nbviewer?"
   ]
  }
 ],
 "metadata": {
  "kernelspec": {
   "display_name": "Python 3",
   "language": "python",
   "name": "python3"
  },
  "language_info": {
   "codemirror_mode": {
    "name": "ipython",
    "version": 3
   },
   "file_extension": ".py",
   "mimetype": "text/x-python",
   "name": "python",
   "nbconvert_exporter": "python",
   "pygments_lexer": "ipython3",
   "version": "3.4.2"
  }
 },
 "nbformat": 4,
 "nbformat_minor": 0
}
