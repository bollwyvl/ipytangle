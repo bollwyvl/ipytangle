{
 "cells": [
  {
   "cell_type": "markdown",
   "metadata": {},
   "source": [
    "# IPyTangle\n",
    "Reactive narratives inspired by [Tangle](http://worrydream.com/Tangle/) in the [Jupyter Notebook](http://jupyter.org).\n",
    "\n",
    "IPyTangle makes plain markdown into an interactive part of your data-driven narrative.\n",
    "\n",
    "This python:\n",
    "\n",
    "```python\n",
    "from ipytangle import tangle\n",
    "\n",
    "jar = tangle(cookies=3, calories=150)\n",
    "\n",
    "@jar.on_trait_change\n",
    "def cookies_changed(name, old, new):\n",
    "    if name is \"cookies\":\n",
    "        jar.calories = new * 50\n",
    "\n",
    "jar\n",
    "```\n",
    "\n",
    "Could connect to this markdown:\n",
    "\n",
    "```markdown\n",
    "> When you eat [`cookies` cookies](#:cookies), you consume [`calories` calories](#:calories).\n",
    "```\n",
    "\n",
    "Would give you something like this:\n",
    "\n",
    "> When you eat [`2` cookies](#:cookies), you consume [`150` calories](#:).\n",
    "\n",
    "And interacting with the links would cuase the result to update."
   ]
  },
  {
   "cell_type": "markdown",
   "metadata": {},
   "source": [
    "## TODO: Screenshot"
   ]
  },
  {
   "cell_type": "markdown",
   "metadata": {},
   "source": [
    "## Features\n",
    "\n",
    "- Implements [TangleKit](https://github.com/worrydream/Tangle/blob/master/TangleKit/TangleKit.js) baseline as markdown links\n",
    "  - read-only just displays a number\n",
    "    ```markdown\n",
    "    For [`years` years](#:) have I trained Jedi. \n",
    "    ```\n",
    "  - update an integer based on dragging\n",
    "    ```markdown\n",
    "    [made the kessel run in `distance` parsecs](#:distance)\n",
    "    ```\n",
    "  - mark some text (which may have other fields) to only display based on condition\n",
    "    ```markdown\n",
    "    What's more foolish? The [`fool_is_more_foolish`](#:if)fool[](#:else)the fool who follows him(#:endif).\n",
    "    ```"
   ]
  },
  {
   "cell_type": "markdown",
   "metadata": {},
   "source": [
    "## Roadmap\n",
    "- support [TangleKit](https://github.com/worrydream/Tangle/blob/master/TangleKit/TangleKit.js) baseline\n",
    "  - float\n",
    "  - switch\n",
    "- ~~derived value shortcut~~\n",
    "  - `jar = tangle(cookies=3, calories=lambda cookies: cookies * 150)`\n",
    "- ~~trait link shortcut~~\n",
    "  - `jar = tangle(cookies=(package, \"cookies\"))`\n",
    "- $L_AT^EX$ (sic)"
   ]
  },
  {
   "cell_type": "code",
   "execution_count": null,
   "metadata": {
    "collapsed": true
   },
   "outputs": [],
   "source": []
  }
 ],
 "metadata": {
  "kernelspec": {
   "display_name": "Python 3",
   "language": "python",
   "name": "python3"
  },
  "language_info": {
   "codemirror_mode": {
    "name": "ipython",
    "version": 3
   },
   "file_extension": ".py",
   "mimetype": "text/x-python",
   "name": "python",
   "nbconvert_exporter": "python",
   "pygments_lexer": "ipython3",
   "version": "3.4.2"
  }
 },
 "nbformat": 4,
 "nbformat_minor": 0
}
