{
 "cells": [
  {
   "cell_type": "markdown",
   "metadata": {},
   "source": [
    "# IPyTangle\n",
    "Reactive narratives inspired by [Tangle](http://worrydream.com/Tangle/) in the [Jupyter Notebook](http://jupyter.org).\n",
    "\n",
    "IPyTangle makes plain markdown into an interactive part of your data-driven narrative.\n",
    "\n",
    "This python:\n",
    "\n",
    "```python\n",
    "from ipytangle import tangle\n",
    "\n",
    "tangle(cookies=3, calories=lambda cookies: cookies * 50)\n",
    "```\n",
    "\n",
    "Would connect to this markdown:\n",
    "\n",
    "```markdown\n",
    "When you eat [`cookies` cookies](#:cookies), you consume [`calories` calories](#:calories).\n",
    "```\n",
    "\n",
    "Would give you something like this:\n",
    "\n",
    "> When you eat [`2` cookies](#:cookies), you consume [`150` calories](#:).\n",
    "\n",
    "And interacting with the links would cause the result to update.\n",
    "\n",
    "See [the examples](./examples)!"
   ]
  },
  {
   "cell_type": "markdown",
   "metadata": {},
   "source": [
    "## Screenshot\n",
    "> TODO "
   ]
  },
  {
   "cell_type": "markdown",
   "metadata": {},
   "source": [
    "### Markdown\n",
    "`ipytangle` implements most of [TangleKit](https://github.com/worrydream/Tangle/blob/master/TangleKit/TangleKit.js) baseline as markdown links. Unrendered tangle markdown should still render in a useful way:\n",
    "\n",
    "> ### templates\n",
    "Backticks, **\\`\\`** are used to represent a JavaScript expression that will be updated on interaction (or cascading updates). In addition to any variables defined with `ipytangle`, some [formatting](#Formatting) libraries are provided. `window` globals should also work :wink:.\n",
    "\n",
    "> Only the generated `code` will be transformed, the rest of the elements (if any) will be preserved.\n",
    "\n",
    "- just display a field\n",
    "```markdown\n",
    "For [`years` years](#:) have I trained Jedi. \n",
    "```\n",
    "- display and update an integer based on dragging\n",
    "```markdown\n",
    "[made the kessel run in `distance` parsecs](#:distance)\n",
    "```\n",
    "- mark some text (which may have other fields) to only display based on condition\n",
    "```markdown\n",
    "What's more foolish? The [`fool_is_more_foolish`](#:if)fool[](#:else)the fool who follows him(#:endif).\n",
    "```\n",
    "you may also have an `else` and any number of `elsif`s... because they are markdown span-level elements, you may use \n",
    "newlines for easier editing\n",
    "```markdown\n",
    "[`feeling == \"bad\"`](#:if) I have a bad feeling about this.\n",
    "[`feeling == \"cautious\"`](#:elif) You will never find a more wretched hive of scum and villainy.\n",
    "[](#:else) Search your feelings.\n",
    "[](#:endif)\n",
    "```"
   ]
  },
  {
   "cell_type": "markdown",
   "metadata": {},
   "source": [
    "### Backend\n",
    "- connects to any IPython widget"
   ]
  },
  {
   "cell_type": "markdown",
   "metadata": {},
   "source": [
    "### Formatting\n",
    "- bundles several nice libraries and shortcuts for formatting text:\n",
    "  - [moment](http://momentjs.com/) dates and times\n",
    "  - [mathjs](http://mathjs.org/) scientific units\n",
    "  - [numeral](http://numeraljs.com/) currency, and miscellany"
   ]
  },
  {
   "cell_type": "markdown",
   "metadata": {},
   "source": [
    "## Inspiration\n",
    "Of course, Brett Victor's [Tangle](http://worrydream.com/Tangle/) is the primary inspiration, as well as:\n",
    "- [tributary](http://tributary.io/)\n",
    "- [derby](http://derbjys.org)\n",
    "- [d3](http://d3js.org)"
   ]
  },
  {
   "cell_type": "markdown",
   "metadata": {},
   "source": [
    "## Roadmap\n",
    "- support [TangleKit](https://github.com/worrydream/Tangle/blob/master/TangleKit/TangleKit.js) baseline\n",
    "  - float\n",
    "  - switch\n",
    "- $L_AT^EX$ (sic)\n",
    "- sparklines, distributions, etc."
   ]
  }
 ],
 "metadata": {
  "kernelspec": {
   "display_name": "Python 3",
   "language": "python",
   "name": "python3"
  },
  "language_info": {
   "codemirror_mode": {
    "name": "ipython",
    "version": 3
   },
   "file_extension": ".py",
   "mimetype": "text/x-python",
   "name": "python",
   "nbconvert_exporter": "python",
   "pygments_lexer": "ipython3",
   "version": "3.4.2"
  }
 },
 "nbformat": 4,
 "nbformat_minor": 0
}
