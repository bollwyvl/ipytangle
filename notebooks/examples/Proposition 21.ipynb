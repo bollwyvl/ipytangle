{
 "cells": [
  {
   "cell_type": "markdown",
   "metadata": {},
   "source": [
    "# Proposition 21: Vehicle License Fee for State Parks"
   ]
  },
  {
   "cell_type": "markdown",
   "metadata": {},
   "source": [
    "## The way it is now\n",
    "California has [`park_count` state parks](#:), including state beaches and historic parks. The current [\\$`old_budget / 1e6`M](#:) budget is insufficient to maintain these parks, and [`old_closed_park_count` parks](#:) will be shut down at least part-time. Most parks charge [\\$`old_admission` per vehicle](#:) for admission."
   ]
  },
  {
   "cell_type": "markdown",
   "metadata": {},
   "source": [
    "## What Prop 21 would do\n",
    "Proposes to charge car owners an extra \\$18 on their annual registration bill, to go into the state park fund. Cars that pay the charge would have free park admission."
   ]
  },
  {
   "cell_type": "markdown",
   "metadata": {},
   "source": [
    "## Analysis\n",
    "> Suppose that an [extra  \\$`tax`](#:tax) was charged to [`compliance`%](#:compliance) of [`is_tax_per_vehicle`](#:is_tax_per_vehicle). Park admission would be [\\$`new_admission`](#:new_admission) for [`applies_to_everyone`](#:applies_to_everyone).\n",
    "\n",
    "This would collect an extra [\\$`delta_budget / 1e6`M](#:) ([\\$`tax_collected / 1e6`M](#:) from the tax, minus [\\$`delta_revenue / 1e6`](#:)\n",
    "[`delta_revenue < 0`](#:if) lost [](#:endif)\n",
    "[`delta_revenue > 0`](#:if) additional [](#:endif) revenue from admission) for a total state park budget of [\\$`budget / 1e6`M](#:).\n",
    "\n",
    "[`budget < maintainance_budget`](#:if)\n",
    "This is not sufficient to maintain the parks, and [`closed_park_count` parks](#:) would be shut down at least part-time.\n",
    "[](#:endif)\n",
    "\n",
    "[`budget < repair_budget`](#:if)\n",
    "This is sufficient to maintain the parks in their current state, but not fund a program to bring safety and cleanliness up to acceptable standards. [](#:endif)\n",
    "\n",
    "[`budget < max_budget`](#:if)\n",
    "This is sufficient to maintain the parks in their current state, plus fund a program to bring safety and cleanliness up to acceptable standards over the next [`restoration_time` years](#:)\n",
    "[](#:endif)\n",
    "\n",
    "\n",
    "Park attendance would rise by [`relative_visitor_count * 100`%](#:), to [`new_visitor_count / 1e6`M visits each year](#:)."
   ]
  },
  {
   "cell_type": "code",
   "execution_count": 23,
   "metadata": {
    "collapsed": true
   },
   "outputs": [],
   "source": [
    "%reload_ext autoreload\n",
    "%autoreload 2"
   ]
  },
  {
   "cell_type": "code",
   "execution_count": 24,
   "metadata": {
    "collapsed": false
   },
   "outputs": [],
   "source": [
    "from math import atan\n",
    "from ipytangle import tangle"
   ]
  },
  {
   "cell_type": "code",
   "execution_count": 25,
   "metadata": {
    "collapsed": true
   },
   "outputs": [],
   "source": [
    "itpv_options = [\"California taxpayers\", \"vehicle registrations\"]\n",
    "a2e_options = [\"those who paid the charge\", \"everyone\"]\n",
    "\n",
    "\n",
    "def tax_count(is_tax_per_vehicle, registered_vehicles, taxpayers):\n",
    "    print(is_tax_per_vehicle, registered_vehicles, taxpayers)\n",
    "    return registered_vehicles if (is_tax_per_vehicle == itpv_options[1]) else taxpayers\n",
    "\n",
    "def tax_collected(tax, compliance, tax_count):\n",
    "    return tax * (compliance / 100) * tax_count\n",
    "\n",
    "def eligible_new(applies_to_everyone, visitors_instate, is_tax_per_vehicle):\n",
    "    if applies_to_everyone == a2e_options[1]:\n",
    "        return 1\n",
    "    return (visitors_instate /  100) * (is_tax_per_vehicle == itpv_options[1] or vehicle_owners / 100)\n",
    "\n",
    "def avg_admission(old_admission, eligible_new, admission):\n",
    "    return old_admission + eligible_new * (admission - old_admission)\n",
    "\n",
    "def new_visitor_count(old_visitor_count, avg_admission, old_admission):\n",
    "    return old_visitor_count * max(\n",
    "        0.2,\n",
    "        1 + 0.5 * atan(1 - avg_admission / old_admission)\n",
    "    )\n",
    "\n",
    "def delta_revenue(old_visitor_count, new_visitor_count, old_admission,\n",
    "                  admission_to_revenue, avg_admission):\n",
    "    old_rev = old_visitor_count * old_admission * admission_to_revenue\n",
    "    new_rev = new_visitor_count * avg_admission * admission_to_revenue\n",
    "    return new_rev - old_rev\n",
    "\n",
    "def delta_budget(tax_collected, delta_revenue):\n",
    "    return tax_collected + delta_revenue\n",
    "\n",
    "def delta_visitor_count(new_visitor_count, old_visitor_count):\n",
    "    return new_visitor_count - old_visitor_count\n",
    "\n",
    "def relative_visitor_count(delta_visitor_count, old_visitor_count):\n",
    "    return abs(delta_visitor_count / old_visitor_count)\n",
    "\n",
    "def budget(old_budget, delta_budget):\n",
    "    return old_budget + delta_budget\n",
    "\n",
    "def closed_park_count(old_closed_park_count, maintainance_budget, budget, old_budget):\n",
    "    return old_closed_park_count * (maintainance_budget - budget) / maintainance_budget - old_budget \n",
    "\n",
    "def restoration_time(budget, repair_budget, max_budget):\n",
    "    return 10 - 9 * (budget - repair_budget) / (max_budget - repair_budget)"
   ]
  },
  {
   "cell_type": "code",
   "execution_count": 26,
   "metadata": {
    "collapsed": false
   },
   "outputs": [
    {
     "name": "stdout",
     "output_type": "stream",
     "text": [
      "vehicle registrations 28000000.0 13657632\n",
      "vehicle registrations 28000000.0 13657632\n"
     ]
    },
    {
     "ename": "NameError",
     "evalue": "name 'vehicle_owners' is not defined",
     "output_type": "error",
     "traceback": [
      "\u001b[1;31m---------------------------------------------------------------------------\u001b[0m",
      "\u001b[1;31mNameError\u001b[0m                                 Traceback (most recent call last)",
      "\u001b[1;32m/home/weg/.virtualenvs/ipytangle/lib/python3.4/site-packages/IPython/html/widgets/widget.py\u001b[0m in \u001b[0;36m_handle_msg\u001b[1;34m(self, msg)\u001b[0m\n\u001b[0;32m    347\u001b[0m             \u001b[1;32mif\u001b[0m \u001b[1;34m'sync_data'\u001b[0m \u001b[1;32min\u001b[0m \u001b[0mdata\u001b[0m\u001b[1;33m:\u001b[0m\u001b[1;33m\u001b[0m\u001b[0m\n\u001b[0;32m    348\u001b[0m                 \u001b[0msync_data\u001b[0m \u001b[1;33m=\u001b[0m \u001b[0mdata\u001b[0m\u001b[1;33m[\u001b[0m\u001b[1;34m'sync_data'\u001b[0m\u001b[1;33m]\u001b[0m\u001b[1;33m\u001b[0m\u001b[0m\n\u001b[1;32m--> 349\u001b[1;33m                 \u001b[0mself\u001b[0m\u001b[1;33m.\u001b[0m\u001b[0mset_state\u001b[0m\u001b[1;33m(\u001b[0m\u001b[0msync_data\u001b[0m\u001b[1;33m)\u001b[0m \u001b[1;31m# handles all methods\u001b[0m\u001b[1;33m\u001b[0m\u001b[0m\n\u001b[0m\u001b[0;32m    350\u001b[0m \u001b[1;33m\u001b[0m\u001b[0m\n\u001b[0;32m    351\u001b[0m         \u001b[1;31m# Handle a state request.\u001b[0m\u001b[1;33m\u001b[0m\u001b[1;33m\u001b[0m\u001b[0m\n",
      "\u001b[1;32m/home/weg/.virtualenvs/ipytangle/lib/python3.4/site-packages/IPython/html/widgets/widget.py\u001b[0m in \u001b[0;36mset_state\u001b[1;34m(self, sync_data)\u001b[0m\n\u001b[0;32m    251\u001b[0m                 \u001b[0mfrom_json\u001b[0m \u001b[1;33m=\u001b[0m \u001b[0mself\u001b[0m\u001b[1;33m.\u001b[0m\u001b[0mtrait_metadata\u001b[0m\u001b[1;33m(\u001b[0m\u001b[0mname\u001b[0m\u001b[1;33m,\u001b[0m \u001b[1;34m'from_json'\u001b[0m\u001b[1;33m,\u001b[0m \u001b[0mself\u001b[0m\u001b[1;33m.\u001b[0m\u001b[0m_trait_from_json\u001b[0m\u001b[1;33m)\u001b[0m\u001b[1;33m\u001b[0m\u001b[0m\n\u001b[0;32m    252\u001b[0m                 \u001b[1;32mwith\u001b[0m \u001b[0mself\u001b[0m\u001b[1;33m.\u001b[0m\u001b[0m_lock_property\u001b[0m\u001b[1;33m(\u001b[0m\u001b[0mname\u001b[0m\u001b[1;33m,\u001b[0m \u001b[0mjson_value\u001b[0m\u001b[1;33m)\u001b[0m\u001b[1;33m:\u001b[0m\u001b[1;33m\u001b[0m\u001b[0m\n\u001b[1;32m--> 253\u001b[1;33m                     \u001b[0msetattr\u001b[0m\u001b[1;33m(\u001b[0m\u001b[0mself\u001b[0m\u001b[1;33m,\u001b[0m \u001b[0mname\u001b[0m\u001b[1;33m,\u001b[0m \u001b[0mfrom_json\u001b[0m\u001b[1;33m(\u001b[0m\u001b[0mjson_value\u001b[0m\u001b[1;33m)\u001b[0m\u001b[1;33m)\u001b[0m\u001b[1;33m\u001b[0m\u001b[0m\n\u001b[0m\u001b[0;32m    254\u001b[0m \u001b[1;33m\u001b[0m\u001b[0m\n\u001b[0;32m    255\u001b[0m     \u001b[1;32mdef\u001b[0m \u001b[0msend\u001b[0m\u001b[1;33m(\u001b[0m\u001b[0mself\u001b[0m\u001b[1;33m,\u001b[0m \u001b[0mcontent\u001b[0m\u001b[1;33m)\u001b[0m\u001b[1;33m:\u001b[0m\u001b[1;33m\u001b[0m\u001b[0m\n",
      "\u001b[1;32m/home/weg/.virtualenvs/ipytangle/lib/python3.4/site-packages/IPython/utils/traitlets.py\u001b[0m in \u001b[0;36m__set__\u001b[1;34m(self, obj, value)\u001b[0m\n\u001b[0;32m    443\u001b[0m             \u001b[1;31m# we explicitly compare silent to True just in case the equality\u001b[0m\u001b[1;33m\u001b[0m\u001b[1;33m\u001b[0m\u001b[0m\n\u001b[0;32m    444\u001b[0m             \u001b[1;31m# comparison above returns something other than True/False\u001b[0m\u001b[1;33m\u001b[0m\u001b[1;33m\u001b[0m\u001b[0m\n\u001b[1;32m--> 445\u001b[1;33m             \u001b[0mobj\u001b[0m\u001b[1;33m.\u001b[0m\u001b[0m_notify_trait\u001b[0m\u001b[1;33m(\u001b[0m\u001b[0mself\u001b[0m\u001b[1;33m.\u001b[0m\u001b[0mname\u001b[0m\u001b[1;33m,\u001b[0m \u001b[0mold_value\u001b[0m\u001b[1;33m,\u001b[0m \u001b[0mnew_value\u001b[0m\u001b[1;33m)\u001b[0m\u001b[1;33m\u001b[0m\u001b[0m\n\u001b[0m\u001b[0;32m    446\u001b[0m \u001b[1;33m\u001b[0m\u001b[0m\n\u001b[0;32m    447\u001b[0m     \u001b[1;32mdef\u001b[0m \u001b[0m_validate\u001b[0m\u001b[1;33m(\u001b[0m\u001b[0mself\u001b[0m\u001b[1;33m,\u001b[0m \u001b[0mobj\u001b[0m\u001b[1;33m,\u001b[0m \u001b[0mvalue\u001b[0m\u001b[1;33m)\u001b[0m\u001b[1;33m:\u001b[0m\u001b[1;33m\u001b[0m\u001b[0m\n",
      "\u001b[1;32m/home/weg/.virtualenvs/ipytangle/lib/python3.4/site-packages/IPython/html/widgets/widget.py\u001b[0m in \u001b[0;36m_notify_trait\u001b[1;34m(self, name, old_value, new_value)\u001b[0m\n\u001b[0;32m    371\u001b[0m         \u001b[1;31m# registered validation to be processed prior to allowing the widget\u001b[0m\u001b[1;33m\u001b[0m\u001b[1;33m\u001b[0m\u001b[0m\n\u001b[0;32m    372\u001b[0m         \u001b[1;31m# machinery to handle the state.\u001b[0m\u001b[1;33m\u001b[0m\u001b[1;33m\u001b[0m\u001b[0m\n\u001b[1;32m--> 373\u001b[1;33m         \u001b[0mLoggingConfigurable\u001b[0m\u001b[1;33m.\u001b[0m\u001b[0m_notify_trait\u001b[0m\u001b[1;33m(\u001b[0m\u001b[0mself\u001b[0m\u001b[1;33m,\u001b[0m \u001b[0mname\u001b[0m\u001b[1;33m,\u001b[0m \u001b[0mold_value\u001b[0m\u001b[1;33m,\u001b[0m \u001b[0mnew_value\u001b[0m\u001b[1;33m)\u001b[0m\u001b[1;33m\u001b[0m\u001b[0m\n\u001b[0m\u001b[0;32m    374\u001b[0m \u001b[1;33m\u001b[0m\u001b[0m\n\u001b[0;32m    375\u001b[0m         \u001b[1;31m# Send the state after the user registered callbacks for trait changes\u001b[0m\u001b[1;33m\u001b[0m\u001b[1;33m\u001b[0m\u001b[0m\n",
      "\u001b[1;32m/home/weg/.virtualenvs/ipytangle/lib/python3.4/site-packages/IPython/utils/traitlets.py\u001b[0m in \u001b[0;36m_notify_trait\u001b[1;34m(self, name, old_value, new_value)\u001b[0m\n\u001b[0;32m    594\u001b[0m                     \u001b[0moffset\u001b[0m \u001b[1;33m=\u001b[0m \u001b[1;36m0\u001b[0m\u001b[1;33m\u001b[0m\u001b[0m\n\u001b[0;32m    595\u001b[0m                 \u001b[1;32mif\u001b[0m \u001b[0mnargs\u001b[0m \u001b[1;33m+\u001b[0m \u001b[0moffset\u001b[0m \u001b[1;33m==\u001b[0m \u001b[1;36m0\u001b[0m\u001b[1;33m:\u001b[0m\u001b[1;33m\u001b[0m\u001b[0m\n\u001b[1;32m--> 596\u001b[1;33m                     \u001b[0mc\u001b[0m\u001b[1;33m(\u001b[0m\u001b[1;33m)\u001b[0m\u001b[1;33m\u001b[0m\u001b[0m\n\u001b[0m\u001b[0;32m    597\u001b[0m                 \u001b[1;32melif\u001b[0m \u001b[0mnargs\u001b[0m \u001b[1;33m+\u001b[0m \u001b[0moffset\u001b[0m \u001b[1;33m==\u001b[0m \u001b[1;36m1\u001b[0m\u001b[1;33m:\u001b[0m\u001b[1;33m\u001b[0m\u001b[0m\n\u001b[0;32m    598\u001b[0m                     \u001b[0mc\u001b[0m\u001b[1;33m(\u001b[0m\u001b[0mname\u001b[0m\u001b[1;33m)\u001b[0m\u001b[1;33m\u001b[0m\u001b[0m\n",
      "\u001b[1;32m/home/weg/Documents/projects/ipytangle/ipytangle/__init__.py\u001b[0m in \u001b[0;36m_handler\u001b[1;34m()\u001b[0m\n\u001b[0;32m     33\u001b[0m         \u001b[1;32mdef\u001b[0m \u001b[0m_handler\u001b[0m\u001b[1;33m(\u001b[0m\u001b[1;33m)\u001b[0m\u001b[1;33m:\u001b[0m\u001b[1;33m\u001b[0m\u001b[0m\n\u001b[0;32m     34\u001b[0m             \u001b[0mhandler_kwargs\u001b[0m \u001b[1;33m=\u001b[0m \u001b[1;33m{\u001b[0m\u001b[0msub\u001b[0m\u001b[1;33m:\u001b[0m \u001b[0mgetattr\u001b[0m\u001b[1;33m(\u001b[0m\u001b[0mself\u001b[0m\u001b[1;33m,\u001b[0m \u001b[0msub\u001b[0m\u001b[1;33m)\u001b[0m \u001b[1;32mfor\u001b[0m \u001b[0msub\u001b[0m \u001b[1;32min\u001b[0m \u001b[0msubscribed\u001b[0m\u001b[1;33m}\u001b[0m\u001b[1;33m\u001b[0m\u001b[0m\n\u001b[1;32m---> 35\u001b[1;33m             \u001b[0msetattr\u001b[0m\u001b[1;33m(\u001b[0m\u001b[0mself\u001b[0m\u001b[1;33m,\u001b[0m \u001b[0mkey\u001b[0m\u001b[1;33m,\u001b[0m \u001b[0mfn\u001b[0m\u001b[1;33m(\u001b[0m\u001b[1;33m**\u001b[0m\u001b[0mhandler_kwargs\u001b[0m\u001b[1;33m)\u001b[0m\u001b[1;33m)\u001b[0m\u001b[1;33m\u001b[0m\u001b[0m\n\u001b[0m\u001b[0;32m     36\u001b[0m \u001b[1;33m\u001b[0m\u001b[0m\n\u001b[0;32m     37\u001b[0m         \u001b[0mself\u001b[0m\u001b[1;33m.\u001b[0m\u001b[0mon_trait_change\u001b[0m\u001b[1;33m(\u001b[0m\u001b[0m_handler\u001b[0m\u001b[1;33m,\u001b[0m \u001b[0mname\u001b[0m\u001b[1;33m=\u001b[0m\u001b[0msubscribed\u001b[0m\u001b[1;33m)\u001b[0m\u001b[1;33m\u001b[0m\u001b[0m\n",
      "\u001b[1;32m<ipython-input-25-37c6cbb32d37>\u001b[0m in \u001b[0;36meligible_new\u001b[1;34m(applies_to_everyone, visitors_instate, is_tax_per_vehicle)\u001b[0m\n\u001b[0;32m     13\u001b[0m     \u001b[1;32mif\u001b[0m \u001b[0mapplies_to_everyone\u001b[0m \u001b[1;33m==\u001b[0m \u001b[0ma2e_options\u001b[0m\u001b[1;33m[\u001b[0m\u001b[1;36m1\u001b[0m\u001b[1;33m]\u001b[0m\u001b[1;33m:\u001b[0m\u001b[1;33m\u001b[0m\u001b[0m\n\u001b[0;32m     14\u001b[0m         \u001b[1;32mreturn\u001b[0m \u001b[1;36m1\u001b[0m\u001b[1;33m\u001b[0m\u001b[0m\n\u001b[1;32m---> 15\u001b[1;33m     \u001b[1;32mreturn\u001b[0m \u001b[1;33m(\u001b[0m\u001b[0mvisitors_instate\u001b[0m \u001b[1;33m/\u001b[0m  \u001b[1;36m100\u001b[0m\u001b[1;33m)\u001b[0m \u001b[1;33m*\u001b[0m \u001b[1;33m(\u001b[0m\u001b[0mis_tax_per_vehicle\u001b[0m \u001b[1;33m==\u001b[0m \u001b[0mitpv_options\u001b[0m\u001b[1;33m[\u001b[0m\u001b[1;36m1\u001b[0m\u001b[1;33m]\u001b[0m \u001b[1;32mor\u001b[0m \u001b[0mvehicle_owners\u001b[0m \u001b[1;33m/\u001b[0m \u001b[1;36m100\u001b[0m\u001b[1;33m)\u001b[0m\u001b[1;33m\u001b[0m\u001b[0m\n\u001b[0m\u001b[0;32m     16\u001b[0m \u001b[1;33m\u001b[0m\u001b[0m\n\u001b[0;32m     17\u001b[0m \u001b[1;32mdef\u001b[0m \u001b[0mavg_admission\u001b[0m\u001b[1;33m(\u001b[0m\u001b[0mold_admission\u001b[0m\u001b[1;33m,\u001b[0m \u001b[0meligible_new\u001b[0m\u001b[1;33m,\u001b[0m \u001b[0madmission\u001b[0m\u001b[1;33m)\u001b[0m\u001b[1;33m:\u001b[0m\u001b[1;33m\u001b[0m\u001b[0m\n",
      "\u001b[1;31mNameError\u001b[0m: name 'vehicle_owners' is not defined"
     ]
    },
    {
     "name": "stdout",
     "output_type": "stream",
     "text": [
      "vehicle registrations 28000000.0 13657632\n"
     ]
    }
   ],
   "source": [
    "prop21 = tangle(\n",
    "    # givens\n",
    "    park_count=278,\n",
    "    old_admission=12,\n",
    "    registered_vehicles = 28e6,\n",
    "    taxpayers=13657632,\n",
    "    old_visitor_count=75e6,\n",
    "    old_budget=400e6,\n",
    "    old_closed_park_count=150,\n",
    "    admission_to_revenue=0.1,\n",
    "    visitors_instate=85,\n",
    "    vehicle_owners=95,\n",
    "    maintainance_budget=600e6,\n",
    "    repair_budget=750e6,\n",
    "    max_budget=1000e6,\n",
    "    \n",
    "    # controls\n",
    "    tax=0,\n",
    "    compliance=100,\n",
    "    new_admission=0,\n",
    "    is_tax_per_vehicle=itpv_options,\n",
    "    admission=0.0,\n",
    "    applies_to_everyone=a2e_options,\n",
    "    # derived values\n",
    "    tax_count=(0, tax_count),\n",
    "    tax_collected=(0.0, tax_collected),\n",
    "    eligible_new=(0.0, eligible_new),\n",
    "    avg_admission=(0, avg_admission),\n",
    "    new_visitor_count=(0, new_visitor_count),\n",
    "    delta_revenue=(0.0, delta_revenue),\n",
    "    delta_budget=(0.0, delta_budget),\n",
    "    delta_visitor_count=(0.0, delta_visitor_count),\n",
    "    relative_visitor_count=(0.0, relative_visitor_count),\n",
    "    budget=(0.0, budget),\n",
    "    closed_park_count=(0, closed_park_count),\n",
    "    restoration_time=(0, restoration_time)\n",
    ")\n",
    "prop21"
   ]
  },
  {
   "cell_type": "code",
   "execution_count": null,
   "metadata": {
    "collapsed": true
   },
   "outputs": [],
   "source": []
  }
 ],
 "metadata": {
  "kernelspec": {
   "display_name": "Python 3",
   "language": "python",
   "name": "python3"
  },
  "language_info": {
   "codemirror_mode": {
    "name": "ipython",
    "version": 3
   },
   "file_extension": ".py",
   "mimetype": "text/x-python",
   "name": "python",
   "nbconvert_exporter": "python",
   "pygments_lexer": "ipython3",
   "version": "3.4.2"
  }
 },
 "nbformat": 4,
 "nbformat_minor": 0
}
