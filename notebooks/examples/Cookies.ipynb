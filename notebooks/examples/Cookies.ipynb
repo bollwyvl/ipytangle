{
 "cells": [
  {
   "cell_type": "code",
   "execution_count": 25,
   "metadata": {
    "collapsed": false
   },
   "outputs": [],
   "source": [
    "from ipytangle import tangle\n",
    "\n",
    "jar = tangle(cookies=3, calories=(150, lambda cookies: cookies * 50))\n",
    "jar"
   ]
  },
  {
   "cell_type": "markdown",
   "metadata": {},
   "source": [
    "> When you eat [`cookies` cookies](#:cookies), you consume [`calories` calories](#:).\n",
    "[`cookies == 0`](#:if) Come on, have a cookie!\n",
    "[`cookies == 1`](#:elsif) You can't eat just one!\n",
    "[](#:else) Buh, too many cookies. \n",
    "[](#:endif)"
   ]
  },
  {
   "cell_type": "code",
   "execution_count": 27,
   "metadata": {
    "collapsed": true
   },
   "outputs": [],
   "source": [
    "jar.cookies = 2"
   ]
  }
 ],
 "metadata": {
  "kernelspec": {
   "display_name": "Python 3",
   "language": "python",
   "name": "python3"
  },
  "language_info": {
   "codemirror_mode": {
    "name": "ipython",
    "version": 3
   },
   "file_extension": ".py",
   "mimetype": "text/x-python",
   "name": "python",
   "nbconvert_exporter": "python",
   "pygments_lexer": "ipython3",
   "version": "3.4.2"
  }
 },
 "nbformat": 4,
 "nbformat_minor": 0
}
