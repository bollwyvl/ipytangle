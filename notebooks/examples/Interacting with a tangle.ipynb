{
 "cells": [
  {
   "cell_type": "markdown",
   "metadata": {},
   "source": [
    "# `Interact`ing with a tangle\n",
    "IPython's [`interact`]() can do some things that are awkward with straight widgets, such as generating plots. It will magically make built-in widgets from some simple settings objects. "
   ]
  },
  {
   "cell_type": "code",
   "execution_count": 12,
   "metadata": {
    "collapsed": false
   },
   "outputs": [],
   "source": [
    "import math\n",
    "from IPython.html.widgets import interact\n",
    "from IPython.display import display\n",
    "from ipytangle import tangle"
   ]
  },
  {
   "cell_type": "markdown",
   "metadata": {},
   "source": [
    "If you write your tangle first, you can link to its parts in an `interact`.\n",
    "\n",
    "<div class=\"alert alert-info\">\n",
    "Because you can only have one tangle per page right now, see [Tangling up `interact`](./Tangling up interact.ipynb).  \n",
    "</div>"
   ]
  },
  {
   "cell_type": "markdown",
   "metadata": {},
   "source": [
    "# The [`fn`](#:fn) function\n",
    "The [`fn`](#:) of [`x`](#:x) is [`fn_of_x`](#:)."
   ]
  },
  {
   "cell_type": "code",
   "execution_count": 13,
   "metadata": {
    "collapsed": false
   },
   "outputs": [],
   "source": [
    "trig_talk = tangle(\n",
    "    fn=[\"sin\", \"cos\", \"tan\"],\n",
    "    x=1,\n",
    "    fn_of_x=(0.0, lambda fn, x: getattr(math, fn)(x))\n",
    ")\n",
    "trig_talk"
   ]
  },
  {
   "cell_type": "code",
   "execution_count": 14,
   "metadata": {
    "collapsed": false
   },
   "outputs": [
    {
     "name": "stdout",
     "output_type": "stream",
     "text": [
      "1.8414709848078965\n"
     ]
    }
   ],
   "source": [
    "@interact\n",
    "def interactor(t=trig_talk, y=1):\n",
    "    print(t.fn_of_x + y)"
   ]
  },
  {
   "cell_type": "code",
   "execution_count": 15,
   "metadata": {
    "collapsed": false
   },
   "outputs": [
    {
     "name": "stdout",
     "output_type": "stream",
     "text": [
      "1.9092974268256817\n"
     ]
    }
   ],
   "source": [
    "trig_talk.x = 2"
   ]
  }
 ],
 "metadata": {
  "kernelspec": {
   "display_name": "Python 3",
   "language": "python",
   "name": "python3"
  },
  "language_info": {
   "codemirror_mode": {
    "name": "ipython",
    "version": 3
   },
   "file_extension": ".py",
   "mimetype": "text/x-python",
   "name": "python",
   "nbconvert_exporter": "python",
   "pygments_lexer": "ipython3",
   "version": "3.4.2"
  }
 },
 "nbformat": 4,
 "nbformat_minor": 0
}
