{
 "cells": [
  {
   "cell_type": "markdown",
   "metadata": {},
   "source": [
    "# Proposition 21: Vehicle License Fee for State Parks"
   ]
  },
  {
   "cell_type": "markdown",
   "metadata": {},
   "source": [
    "## The way it is now\n",
    "\n",
    "California has 278 state parks, including state beaches and historic parks. The current \\$400 million budget is insufficient to maintain these parks, and 150 parks will be shut down at least part-time. Most parks charge $12 per vehicle for admission."
   ]
  },
  {
   "cell_type": "markdown",
   "metadata": {},
   "source": [
    "## What Prop 21 would do\n",
    "Proposes to charge car owners an extra \\$18 on their annual registration bill, to go into the state park fund. Cars that pay the charge would have free park admission."
   ]
  },
  {
   "cell_type": "markdown",
   "metadata": {},
   "source": [
    "## Analysis\n",
    "Suppose that an [extra  \\${{tax}}](#:tax) was charged to [{{compliance}}%](#:compliance) of [{{is_tax_per_vehicle}}](#:is_tax_per_vehicle). Park admission would be free for [{{applies_to_everyone}}](#:applies_to_everyone).\n"
   ]
  },
  {
   "cell_type": "markdown",
   "metadata": {},
   "source": [
    "\n",
    "This would collect an extra [\\${{delta_budget}}](#:) ([\\${{tax_collected}}](#:) from the tax, minus [\\${{delta_revenue}}](#:) lost revenue from admission) for a total state park budget of [\\${{budget}}](#:budget).\n",
    "\n",
    "Park attendance would rise by [{{relative_visitor_count}}%](#:), to [{{ new_visitor_count}} visits each year](#:)."
   ]
  },
  {
   "cell_type": "code",
   "execution_count": 1,
   "metadata": {
    "collapsed": true
   },
   "outputs": [],
   "source": [
    "%reload_ext autoreload\n",
    "%autoreload 2"
   ]
  },
  {
   "cell_type": "code",
   "execution_count": 2,
   "metadata": {
    "collapsed": false
   },
   "outputs": [
    {
     "name": "stderr",
     "output_type": "stream",
     "text": [
      ":0: FutureWarning: IPython widgets are experimental and may change in the future.\n"
     ]
    }
   ],
   "source": [
    "from math import atan\n",
    "from ipytangle import tangle"
   ]
  },
  {
   "cell_type": "code",
   "execution_count": 3,
   "metadata": {
    "collapsed": true
   },
   "outputs": [],
   "source": [
    "def tax_count(is_tax_per_vehicle, registered_vehicles, taxpayers):\n",
    "    return registered_vehicles if is_tax_per_vehicle else taxpayers\n",
    "\n",
    "def tax_collected(tax, compliance, tax_count):\n",
    "    return tax * compliance * tax_count\n",
    "\n",
    "def eligible_new(applies_to_everyone, visitors_instate, is_tax_per_vehicle):\n",
    "    if applies_to_everyone:\n",
    "        return 1\n",
    "    return visitors_instate * (is_tax_per_vehicle or vehicle_owners)\n",
    "\n",
    "def avg_admission(old_admission, eligible_new, admission):\n",
    "    return old_admission + eligible_new * (admission - old_admission)\n",
    "\n",
    "def new_visitor_count(old_visitor_count, avg_admission, old_admission):\n",
    "    return old_visitor_count * max(\n",
    "        0.2,\n",
    "        1 + 0.5 * atan(1 - avg_admission / old_admission)\n",
    "    )\n",
    "\n",
    "def delta_revenue(old_visitor_count, new_visitor_count, old_admission,\n",
    "                  admission_to_revenue, avg_admission):\n",
    "    old_rev = old_visitor_count * old_admission * admission_to_revenue\n",
    "    new_rev = new_visitor_count * avg_admission * admission_to_revenue\n",
    "    return new_rev - old_rev\n",
    "\n",
    "def delta_budget(tax_collected, delta_revenue):\n",
    "    return tax_collected + delta_revenue\n",
    "\n",
    "def delta_visitor_count(new_visitor_count, old_visitor_count):\n",
    "    return new_visitor_count - old_visitor_count\n",
    "\n",
    "def relative_visitor_count(delta_visitor_count, old_visitor_count):\n",
    "    return abs(delta_visitor_count / old_visitor_count)\n",
    "\n",
    "def budget(old_budget, delta_budget):\n",
    "    return old_budget + delta_budget"
   ]
  },
  {
   "cell_type": "code",
   "execution_count": 4,
   "metadata": {
    "collapsed": false
   },
   "outputs": [],
   "source": [
    "prop21 = tangle(\n",
    "    # givens\n",
    "    park_count=278,\n",
    "    old_admission=12,\n",
    "    registered_vehicles = 28e6,\n",
    "    taxpayers=13657632,\n",
    "    old_visitor_count=75e6,\n",
    "    old_budget=400e6,\n",
    "    old_closed_park_count=150,\n",
    "    admission_to_revenue=0.1,\n",
    "    visitors_instate=0.85,\n",
    "    vehicle_owners=0.95,\n",
    "    maintainance_budget=600e6,\n",
    "    repair_budget=750e6,\n",
    "    max_budget=1000e6,\n",
    "    \n",
    "    # controls\n",
    "    tax=0,\n",
    "    compliance=1.0,\n",
    "    is_tax_per_vehicle=[\"California taxpayers\", \"vehicle registrations\"],\n",
    "    admission=0.0,\n",
    "    applies_to_everyone=[\"those who paid the charge\", \"everyone\"],\n",
    "    # derived values\n",
    "    tax_count=(0, tax_count),\n",
    "    tax_collected=(0.0, tax_collected),\n",
    "    eligible_new=(0.0, eligible_new),\n",
    "    avg_admission=(0, avg_admission),\n",
    "    new_visitor_count=(0, new_visitor_count),\n",
    "    delta_revenue=(0.0, delta_revenue),\n",
    "    delta_budget=(0.0, delta_budget),\n",
    "    delta_visitor_count=(0.0, delta_visitor_count),\n",
    "    relative_visitor_count=(0.0, relative_visitor_count),\n",
    "    budget=(0.0, budget),\n",
    ")\n",
    "prop21"
   ]
  }
 ],
 "metadata": {
  "kernelspec": {
   "display_name": "Python 3",
   "language": "python",
   "name": "python3"
  },
  "language_info": {
   "codemirror_mode": {
    "name": "ipython",
    "version": 3
   },
   "file_extension": ".py",
   "mimetype": "text/x-python",
   "name": "python",
   "nbconvert_exporter": "python",
   "pygments_lexer": "ipython3",
   "version": "3.4.2"
  }
 },
 "nbformat": 4,
 "nbformat_minor": 0
}
