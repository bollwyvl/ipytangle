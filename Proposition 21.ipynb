{
 "cells": [
  {
   "cell_type": "code",
   "execution_count": 1,
   "metadata": {
    "collapsed": true
   },
   "outputs": [],
   "source": [
    "%reload_ext autoreload\n",
    "%autoreload 2"
   ]
  },
  {
   "cell_type": "code",
   "execution_count": 2,
   "metadata": {
    "collapsed": false
   },
   "outputs": [],
   "source": [
    "from ipytangle import tangle\n",
    "\n",
    "prop21 = tangle(\n",
    "    surcharge=0,\n",
    "    proportion=1.0,\n",
    "    constituency=[\"vehicle registrations\", \"California taxpayers\"],\n",
    "    admission=0.0,\n",
    "    beneficiaries=[\"those who paid the charge\", \"everyone\"],\n",
    "    net_collected=437000000,\n",
    "    tax_revenue=504000000,\n",
    "    budget=83700000,\n",
    "    lost_revenue=0,\n",
    "    surplus=0,\n",
    "    attendance=0,\n",
    "    visits=0\n",
    ")\n",
    "\n",
    "prop21"
   ]
  },
  {
   "cell_type": "markdown",
   "metadata": {},
   "source": [
    "# Proposition 21: Vehicle License Fee for State Parks"
   ]
  },
  {
   "cell_type": "markdown",
   "metadata": {},
   "source": [
    "## The way it is now\n",
    "\n",
    "California has 278 state parks, including state beaches and historic parks. The current \\$400 million budget is insufficient to maintain these parks, and 150 parks will be shut down at least part-time. Most parks charge $12 per vehicle for admission."
   ]
  },
  {
   "cell_type": "markdown",
   "metadata": {},
   "source": [
    "## What Prop 21 would do\n",
    "Proposes to charge car owners an extra \\$18 on their annual registration bill, to go into the state park fund. Cars that pay the charge would have free park admission."
   ]
  },
  {
   "cell_type": "markdown",
   "metadata": {},
   "source": [
    "## Analysis\n",
    "Suppose that an [extra  \\${{surcharge}}](#:surcharge) was charged to [\\${{proportion * 100}}](#:proportion) of [{{constituency}}](#:constituency). Park admission would be free for [{{beneficiaries}}](#:benficiaries).\n",
    "\n",
    "This would collect an extra [\\${{net_collected}}](#:) ([\\${{tax_revenue}}](#:) from the tax, minus [\\${{lost_revenue}}](#:) lost revenue from admission) for a total state park budget of [\\${{budget}}](#:budget). This is sufficient to maintain the parks and bring safety and cleanliness up to acceptable standards, leaving a [\\${{surplus}} per year](#:surplus) surplus.\n",
    "\n",
    "Park attendance would rise by [{{attendance}}%](#:), to [{{ visits }} visits each year](#:)."
   ]
  }
 ],
 "metadata": {
  "kernelspec": {
   "display_name": "Python 3",
   "language": "python",
   "name": "python3"
  },
  "language_info": {
   "codemirror_mode": {
    "name": "ipython",
    "version": 3
   },
   "file_extension": ".py",
   "mimetype": "text/x-python",
   "name": "python",
   "nbconvert_exporter": "python",
   "pygments_lexer": "ipython3",
   "version": "3.4.2"
  }
 },
 "nbformat": 4,
 "nbformat_minor": 0
}
