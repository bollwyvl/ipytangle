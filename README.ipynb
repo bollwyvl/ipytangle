{
 "cells": [
  {
   "cell_type": "code",
   "execution_count": 1,
   "metadata": {
    "collapsed": false
   },
   "outputs": [],
   "source": [
    "%reload_ext autoreload\n",
    "%autoreload 2"
   ]
  },
  {
   "cell_type": "markdown",
   "metadata": {},
   "source": [
    "# IPyTangle\n",
    "Reactive narratives inspired by [Tangle](http://worrydream.com/Tangle/) in the [Jupyter Notebook](http://jupyter.org).\n",
    "\n",
    "IPyTangle transforms markdown into an interactive part of your data-driven narrative, and can update any widget."
   ]
  },
  {
   "cell_type": "code",
   "execution_count": 2,
   "metadata": {
    "collapsed": false
   },
   "outputs": [
    {
     "name": "stderr",
     "output_type": "stream",
     "text": [
      ":0: FutureWarning: IPython widgets are experimental and may change in the future.\n"
     ]
    }
   ],
   "source": [
    "from ipytangle import tangle\n",
    "\n",
    "jar = tangle(cookies=3, calories=150)\n",
    "\n",
    "@jar.on_trait_change\n",
    "def cookies_changed(name, old, new):\n",
    "    if name is \"cookies\":\n",
    "        jar.calories = new * 50\n",
    "\n",
    "jar\n"
   ]
  },
  {
   "cell_type": "markdown",
   "metadata": {},
   "source": [
    "> When you eat [`cookies` cookies](#:cookies), you consume [`calories` calories](#:calories).\n",
    "[`cookies > 10`](#:if) [`cookies > 100`](#:if) **WAY** [](#:endif) Too many cookies! [](#:endif)"
   ]
  },
  {
   "cell_type": "code",
   "execution_count": 3,
   "metadata": {
    "collapsed": false
   },
   "outputs": [],
   "source": [
    "jar.cookies = 5"
   ]
  },
  {
   "cell_type": "markdown",
   "metadata": {},
   "source": [
    "## Roadmap\n",
    "\n",
    "- support [TangleKit](https://github.com/worrydream/Tangle/blob/master/TangleKit/TangleKit.js) baseline\n",
    "  - ~~integer~~\n",
    "  - float\n",
    "  - ~~toggle~~\n",
    "  - ~~if~~\n",
    "  - switch\n",
    "- derived value shortcut\n",
    "  - `jar = tangle(cookies=3, calories=lambda cookies: cookies * 150)`\n",
    "- ~~trait link shortcut~~\n",
    "  - `jar = tangle(cookies=(package, \"cookies\"))`"
   ]
  }
 ],
 "metadata": {
  "kernelspec": {
   "display_name": "Python 3",
   "language": "python",
   "name": "python3"
  },
  "language_info": {
   "codemirror_mode": {
    "name": "ipython",
    "version": 3
   },
   "file_extension": ".py",
   "mimetype": "text/x-python",
   "name": "python",
   "nbconvert_exporter": "python",
   "pygments_lexer": "ipython3",
   "version": "3.4.2"
  }
 },
 "nbformat": 4,
 "nbformat_minor": 0
}
